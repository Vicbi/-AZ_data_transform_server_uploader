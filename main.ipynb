{
 "cells": [
  {
   "cell_type": "code",
   "execution_count": null,
   "id": "e9719252-adc8-4acd-8dd9-2822214e9185",
   "metadata": {},
   "outputs": [
    {
     "name": "stdout",
     "output_type": "stream",
     "text": [
      "User: 2018226\n",
      "Data written to D9150M00002_2018226_dm_attitude_20231124.csv\n",
      "Data written to D9150M00002_2018226_dm_gravity_20231124.csv\n",
      "Data written to D9150M00002_2018226_dm_rotation_rate_20231124.csv\n",
      "Data written to D9150M00002_2018226_dm_user_acceleration_20231124.csv\n",
      "Data written to D9150M00002_2018226_pedo_20231124.csv\n",
      "Data written to D9150M00002_2018226_raw_accel_20231124.csv\n",
      "Data written to D9150M00002_2018226_raw_gyro_20231124.csv\n",
      "User: 2016895\n"
     ]
    }
   ],
   "source": [
    "import os\n",
    "import pandas as pd\n",
    "import numpy as np\n",
    "from utils import *\n",
    "\n",
    "\n",
    "# Get the current directory\n",
    "current_directory = os.getcwd()\n",
    "\n",
    "# Data types for each user\n",
    "data_types_list = ['dm_attitude', 'dm_gravity', 'dm_rotation_rate', 'dm_user_acceleration', 'pedo', 'raw_accel', 'raw_gyro']\n",
    "\n",
    "# Define the directories to ignore\n",
    "ignore_directories = ['__pycache__', '.ipynb_checkpoints', 'results', '.DS_Store']\n",
    "\n",
    "# Read mobile_users.csv to map ids to eids\n",
    "users_csv_path = 'mobile_users.csv' # ensure you have added the most recent mobile_users.csv in your directory\n",
    "users_df = pd.read_csv(users_csv_path)\n",
    "    \n",
    "# Iterate over folders of users\n",
    "for user_folder_name in os.listdir(current_directory):\n",
    "    user_folder_path = os.path.join(current_directory, user_folder_name)\n",
    "\n",
    "    # Check if it's a directory and not in the list of directories to ignore\n",
    "    if os.path.isdir(user_folder_path) and user_folder_name not in ignore_directories:\n",
    "        \n",
    "        # Get user_folder name\n",
    "        user_folder_name = os.path.basename(user_folder_path)\n",
    "        id = int(user_folder_name)\n",
    "        \n",
    "        # Get eid from users.csv\n",
    "        eid = users_df.loc[users_df['id'] == id, 'e_id'].values[0]\n",
    "        print('User:', eid)\n",
    "        \n",
    "        # Change directory and unzip all .zip folders (dates) within user_folder\n",
    "        unzip_all(user_folder_path)\n",
    "        \n",
    "        for data_type in data_types_list:\n",
    "            # Get data_type from all folders of the user and \n",
    "            # outputs a csv with data from all folders \n",
    "            create_csv_with_all_data(eid,user_folder_path,data_type)\n",
    "        "
   ]
  }
 ],
 "metadata": {
  "kernelspec": {
   "display_name": "Python 3 (ipykernel)",
   "language": "python",
   "name": "python3"
  },
  "language_info": {
   "codemirror_mode": {
    "name": "ipython",
    "version": 3
   },
   "file_extension": ".py",
   "mimetype": "text/x-python",
   "name": "python",
   "nbconvert_exporter": "python",
   "pygments_lexer": "ipython3",
   "version": "3.7.16"
  }
 },
 "nbformat": 4,
 "nbformat_minor": 5
}
